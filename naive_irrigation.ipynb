{
 "cells": [
  {
   "cell_type": "markdown",
   "id": "30d0837f-491a-40c7-9036-9538f8d17c8b",
   "metadata": {},
   "source": [
    "# Intelligent Irrigation System"
   ]
  },
  {
   "cell_type": "markdown",
   "id": "429075fc-3b82-4540-9271-01bc3934ffc8",
   "metadata": {},
   "source": [
    "## EA want to build an Automatic irrigation system that measures the moisture of soil and helps to take the decision to turn on or off the water supply."
   ]
  },
  {
   "cell_type": "markdown",
   "id": "8229f050-5349-4720-8ab1-f8b9eed4ad84",
   "metadata": {},
   "source": [
    "## Can You Help Him??"
   ]
  },
  {
   "cell_type": "markdown",
   "id": "5da93b05-615d-4e20-b7da-3e419fb1303b",
   "metadata": {},
   "source": [
    "# //////////////////....................................////////////////////////////...............//////////////////////////"
   ]
  },
  {
   "cell_type": "markdown",
   "id": "dc741e34-bdba-44a3-a4e7-5fb7f56f8b54",
   "metadata": {},
   "source": [
    "# Naive Bayes Intelligent Irrigation system "
   ]
  },
  {
   "cell_type": "markdown",
   "id": "56222216-51c0-4779-baa2-9621e16e2bb2",
   "metadata": {
    "tags": []
   },
   "source": [
    "## importing the required libraries"
   ]
  },
  {
   "cell_type": "code",
   "execution_count": 19,
   "id": "9363e7d3-2971-432e-9f0c-058a02ed11ea",
   "metadata": {},
   "outputs": [],
   "source": [
    "import numpy as np\n",
    "import pandas as pd\n",
    "import matplotlib.pyplot as plt"
   ]
  },
  {
   "cell_type": "markdown",
   "id": "0b84d85c-da1e-44cd-9b0f-ee80605d2980",
   "metadata": {},
   "source": [
    "## import the dataset"
   ]
  },
  {
   "cell_type": "code",
   "execution_count": 9,
   "id": "2b1d2702-b8b0-4f25-9ffe-40747454c61a",
   "metadata": {},
   "outputs": [],
   "source": [
    "dataset=pd.read_csv('Irrigation_system.csv')\n",
    "X=dataset.iloc[:,1:-1].values\n",
    "y=dataset.iloc[:,-1].values"
   ]
  },
  {
   "cell_type": "markdown",
   "id": "cb3d9885-1718-48b4-818c-34b11ae746b0",
   "metadata": {},
   "source": [
    "## Dataset Analysis "
   ]
  },
  {
   "cell_type": "code",
   "execution_count": 12,
   "id": "95b3972f-37ef-4491-b4f5-1355ceefad66",
   "metadata": {},
   "outputs": [
    {
     "data": {
      "text/html": [
       "<div>\n",
       "<style scoped>\n",
       "    .dataframe tbody tr th:only-of-type {\n",
       "        vertical-align: middle;\n",
       "    }\n",
       "\n",
       "    .dataframe tbody tr th {\n",
       "        vertical-align: top;\n",
       "    }\n",
       "\n",
       "    .dataframe thead th {\n",
       "        text-align: right;\n",
       "    }\n",
       "</style>\n",
       "<table border=\"1\" class=\"dataframe\">\n",
       "  <thead>\n",
       "    <tr style=\"text-align: right;\">\n",
       "      <th></th>\n",
       "      <th>crop</th>\n",
       "      <th>moisture</th>\n",
       "      <th>temp</th>\n",
       "      <th>pump</th>\n",
       "    </tr>\n",
       "  </thead>\n",
       "  <tbody>\n",
       "    <tr>\n",
       "      <th>0</th>\n",
       "      <td>cotton</td>\n",
       "      <td>638</td>\n",
       "      <td>16</td>\n",
       "      <td>1</td>\n",
       "    </tr>\n",
       "    <tr>\n",
       "      <th>1</th>\n",
       "      <td>cotton</td>\n",
       "      <td>522</td>\n",
       "      <td>18</td>\n",
       "      <td>1</td>\n",
       "    </tr>\n",
       "    <tr>\n",
       "      <th>2</th>\n",
       "      <td>cotton</td>\n",
       "      <td>741</td>\n",
       "      <td>22</td>\n",
       "      <td>1</td>\n",
       "    </tr>\n",
       "    <tr>\n",
       "      <th>3</th>\n",
       "      <td>cotton</td>\n",
       "      <td>798</td>\n",
       "      <td>32</td>\n",
       "      <td>1</td>\n",
       "    </tr>\n",
       "    <tr>\n",
       "      <th>4</th>\n",
       "      <td>cotton</td>\n",
       "      <td>690</td>\n",
       "      <td>28</td>\n",
       "      <td>1</td>\n",
       "    </tr>\n",
       "    <tr>\n",
       "      <th>5</th>\n",
       "      <td>cotton</td>\n",
       "      <td>558</td>\n",
       "      <td>23</td>\n",
       "      <td>1</td>\n",
       "    </tr>\n",
       "    <tr>\n",
       "      <th>6</th>\n",
       "      <td>cotton</td>\n",
       "      <td>578</td>\n",
       "      <td>12</td>\n",
       "      <td>1</td>\n",
       "    </tr>\n",
       "    <tr>\n",
       "      <th>7</th>\n",
       "      <td>cotton</td>\n",
       "      <td>673</td>\n",
       "      <td>35</td>\n",
       "      <td>1</td>\n",
       "    </tr>\n",
       "    <tr>\n",
       "      <th>8</th>\n",
       "      <td>cotton</td>\n",
       "      <td>642</td>\n",
       "      <td>45</td>\n",
       "      <td>1</td>\n",
       "    </tr>\n",
       "    <tr>\n",
       "      <th>9</th>\n",
       "      <td>cotton</td>\n",
       "      <td>723</td>\n",
       "      <td>11</td>\n",
       "      <td>1</td>\n",
       "    </tr>\n",
       "  </tbody>\n",
       "</table>\n",
       "</div>"
      ],
      "text/plain": [
       "     crop  moisture  temp  pump\n",
       "0  cotton       638    16     1\n",
       "1  cotton       522    18     1\n",
       "2  cotton       741    22     1\n",
       "3  cotton       798    32     1\n",
       "4  cotton       690    28     1\n",
       "5  cotton       558    23     1\n",
       "6  cotton       578    12     1\n",
       "7  cotton       673    35     1\n",
       "8  cotton       642    45     1\n",
       "9  cotton       723    11     1"
      ]
     },
     "execution_count": 12,
     "metadata": {},
     "output_type": "execute_result"
    }
   ],
   "source": [
    "dataset.head(10)"
   ]
  },
  {
   "cell_type": "code",
   "execution_count": 26,
   "id": "e6754fc8-8726-40d8-9d90-ba4aa3baf883",
   "metadata": {},
   "outputs": [
    {
     "data": {
      "image/png": "[encoded data removed]",
      "text/plain": [
       "<Figure size 432x288 with 1 Axes>"
      ]
     },
     "metadata": {
      "needs_background": "light"
     },
     "output_type": "display_data"
    }
   ],
   "source": [
    "x=dataset[\"moisture\"]\n",
    "y=dataset[\"temp\"]\n",
    "plt.scatter(x,y,color='blue')\n",
    "plt.title('Moisture vs Temp')\n",
    "plt.xlabel('Moisture')\n",
    "plt.ylabel('Temperature')\n",
    "plt.show()"
   ]
  },
  {
   "cell_type": "markdown",
   "id": "cf4903a6-ab78-4f0f-b5d6-ede09b78696a",
   "metadata": {},
   "source": [
    "## Splitting the dataset into the Training set and Test set"
   ]
  },
  {
   "cell_type": "code",
   "execution_count": 10,
   "id": "6b391ef1-a665-4d97-be7c-c2eaad0308b7",
   "metadata": {},
   "outputs": [],
   "source": [
    "from sklearn.model_selection import train_test_split\n",
    "X_train, X_test, y_train, y_test = train_test_split(X, y, test_size = 0.25, random_state = 0)"
   ]
  },
  {
   "cell_type": "code",
   "execution_count": 32,
   "id": "20b43dd9-a1e4-437e-afd6-085c74d19ec5",
   "metadata": {},
   "outputs": [
    {
     "name": "stdout",
     "output_type": "stream",
     "text": [
      "[[ 637   29]\n",
      " [ 175   15]\n",
      " [ 888   44]\n",
      " [ 837   30]\n",
      " [  74   20]\n",
      " [ 736   44]\n",
      " [ 661   35]\n",
      " [ 926   18]\n",
      " [ 698   45]\n",
      " [ 535   17]\n",
      " [ 209   43]\n",
      " [ 553   35]\n",
      " [ 872   10]\n",
      " [ 783   18]\n",
      " [1019   37]\n",
      " [ 795   15]\n",
      " [ 580   14]\n",
      " [ 922   23]\n",
      " [ 663   24]\n",
      " [ 699   22]\n",
      " [ 178   39]\n",
      " [ 850   16]\n",
      " [  72   13]\n",
      " [  76   35]\n",
      " [  59   20]\n",
      " [ 545   29]\n",
      " [ 168   10]\n",
      " [ 703   45]\n",
      " [ 714   14]\n",
      " [  39   38]\n",
      " [ 974   28]\n",
      " [ 824   37]\n",
      " [   4   42]\n",
      " [ 941   13]\n",
      " [ 482   27]\n",
      " [ 659   29]\n",
      " [ 741   22]\n",
      " [ 788   12]\n",
      " [  87   12]\n",
      " [ 894   42]\n",
      " [ 749   38]\n",
      " [ 671   23]\n",
      " [ 914   35]\n",
      " [ 611   12]\n",
      " [ 902   45]\n",
      " [1005   43]\n",
      " [1010   10]\n",
      " [ 354   20]\n",
      " [ 817   18]\n",
      " [ 306   25]\n",
      " [ 865   17]\n",
      " [ 986   36]\n",
      " [ 775   40]\n",
      " [ 638   16]\n",
      " [ 830   44]\n",
      " [ 208   39]\n",
      " [ 843   41]\n",
      " [ 641   35]\n",
      " [1001   36]\n",
      " [ 675   39]\n",
      " [ 509   19]\n",
      " [ 533   42]\n",
      " [ 740   31]\n",
      " [ 737   34]\n",
      " [ 586   33]\n",
      " [ 923   10]\n",
      " [ 813   15]\n",
      " [ 917   33]\n",
      " [ 302   23]\n",
      " [ 635   36]\n",
      " [ 716   25]\n",
      " [ 683   39]\n",
      " [ 493   18]\n",
      " [ 639   14]\n",
      " [  89   42]\n",
      " [ 539   26]\n",
      " [ 798   32]\n",
      " [  81   20]\n",
      " [ 998   28]\n",
      " [1022   45]\n",
      " [ 578   12]\n",
      " [ 792   15]\n",
      " [ 579   45]\n",
      " [ 161   18]\n",
      " [1020   27]\n",
      " [ 969   39]\n",
      " [ 933   42]\n",
      " [ 722   26]\n",
      " [ 979   10]\n",
      " [ 758   34]\n",
      " [ 401   17]\n",
      " [ 434   19]\n",
      " [ 796   21]\n",
      " [ 818   15]\n",
      " [ 676   30]\n",
      " [ 522   18]\n",
      " [ 271   33]\n",
      " [ 853   29]\n",
      " [ 700   38]\n",
      " [ 421   39]\n",
      " [ 304   43]\n",
      " [ 896   42]\n",
      " [ 828   41]\n",
      " [ 573   13]\n",
      " [ 256   40]\n",
      " [ 612   31]\n",
      " [ 889   39]\n",
      " [ 462   32]\n",
      " [ 670   22]\n",
      " [ 806   28]\n",
      " [ 184   29]\n",
      " [ 938   14]\n",
      " [ 546   32]\n",
      " [ 950   13]\n",
      " [ 245   43]\n",
      " [ 947   41]\n",
      " [ 759   10]\n",
      " [ 107   31]\n",
      " [ 999   30]\n",
      " [  52   44]\n",
      " [ 681   31]\n",
      " [ 733   26]\n",
      " [ 768   17]\n",
      " [ 760   18]\n",
      " [ 429   17]\n",
      " [ 149   24]\n",
      " [1015   35]\n",
      " [ 769   13]\n",
      " [ 595   30]\n",
      " [ 833   13]\n",
      " [ 966   16]\n",
      " [ 766   39]\n",
      " [ 858   19]\n",
      " [ 857   20]\n",
      " [1021   22]\n",
      " [ 812   38]\n",
      " [ 503   44]\n",
      " [  36   16]\n",
      " [ 624   15]\n",
      " [ 682   40]\n",
      " [ 757   43]\n",
      " [ 665   32]\n",
      " [ 525   33]\n",
      " [ 723   11]\n",
      " [ 487   16]\n",
      " [ 773   20]\n",
      " [ 968   17]\n",
      " [ 158   17]\n",
      " [ 839   29]\n",
      " [ 881   26]]\n"
     ]
    }
   ],
   "source": [
    "print(X_train)"
   ]
  },
  {
   "cell_type": "code",
   "execution_count": 33,
   "id": "616c02fd-aad3-4da9-9d42-64e0fbe64f1d",
   "metadata": {},
   "outputs": [
    {
     "name": "stdout",
     "output_type": "stream",
     "text": [
      "[1 0 1 1 0 1 1 1 1 1 0 1 1 1 1 1 1 1 1 1 0 1 0 0 0 1 0 1 1 0 1 1 0 1 0 1 1\n",
      " 1 0 1 1 1 1 1 1 1 1 0 1 0 1 1 1 1 1 0 1 1 1 1 1 1 1 1 1 1 1 1 0 1 1 1 0 1\n",
      " 0 1 1 0 1 1 1 1 1 0 1 1 1 1 1 1 0 0 1 1 1 1 0 1 1 0 0 1 1 1 0 1 1 0 1 1 0\n",
      " 1 1 1 0 1 1 0 1 0 1 1 1 1 0 0 1 1 1 1 1 1 1 1 1 1 1 0 1 1 1 1 1 1 0 1 1 0\n",
      " 1 1]\n"
     ]
    }
   ],
   "source": [
    "print(y_train)"
   ]
  },
  {
   "cell_type": "code",
   "execution_count": 35,
   "id": "29d6fda6-2ca2-493e-8d8e-acb518451988",
   "metadata": {},
   "outputs": [
    {
     "name": "stdout",
     "output_type": "stream",
     "text": [
      "[[ 633   23]\n",
      " [ 873   44]\n",
      " [ 177   12]\n",
      " [ 588   18]\n",
      " [ 859   20]\n",
      " [ 878   29]\n",
      " [ 558   23]\n",
      " [ 143   43]\n",
      " [ 507   45]\n",
      " [ 981   36]\n",
      " [ 729   41]\n",
      " [ 293   25]\n",
      " [ 893   39]\n",
      " [ 876   40]\n",
      " [ 697   25]\n",
      " [ 673   35]\n",
      " [ 803   21]\n",
      " [  75   37]\n",
      " [ 687   11]\n",
      " [ 574   32]\n",
      " [ 883   40]\n",
      " [ 206   37]\n",
      " [ 748   27]\n",
      " [ 920   10]\n",
      " [ 513   27]\n",
      " [  26   23]\n",
      " [ 937   28]\n",
      " [1009   21]\n",
      " [ 124   40]\n",
      " [ 537   44]\n",
      " [ 724   11]\n",
      " [ 632   14]\n",
      " [ 861   33]\n",
      " [ 162   29]\n",
      " [ 636   24]\n",
      " [ 918   19]\n",
      " [ 466   41]\n",
      " [ 690   28]\n",
      " [ 734   16]\n",
      " [ 379   23]\n",
      " [ 141   43]\n",
      " [ 739   14]\n",
      " [ 808   29]\n",
      " [ 394   27]\n",
      " [ 930   18]\n",
      " [ 629   41]\n",
      " [ 642   45]\n",
      " [ 623   32]\n",
      " [ 435   10]\n",
      " [  21   37]]\n"
     ]
    }
   ],
   "source": [
    "print(X_test)"
   ]
  },
  {
   "cell_type": "code",
   "execution_count": 36,
   "id": "73cd598b-86b0-4cc3-9c22-b2ca531b6f5e",
   "metadata": {},
   "outputs": [
    {
     "name": "stdout",
     "output_type": "stream",
     "text": [
      "[1 1 0 1 1 1 1 0 1 1 1 0 1 1 1 1 1 0 1 1 1 0 1 1 1 0 1 1 0 1 1 1 1 0 1 1 0\n",
      " 1 1 0 0 1 1 0 1 1 1 1 0 0]\n"
     ]
    }
   ],
   "source": [
    "print(y_test)"
   ]
  },
  {
   "cell_type": "markdown",
   "id": "c0390511-c3d6-4e99-8076-2651b4210776",
   "metadata": {},
   "source": [
    "# Feature Scaling "
   ]
  },
  {
   "cell_type": "code",
   "execution_count": 37,
   "id": "daeb7b51-ddc6-4133-a0d3-efbc00f521a4",
   "metadata": {},
   "outputs": [],
   "source": [
    "from sklearn.preprocessing import StandardScaler\n",
    "sc = StandardScaler()\n",
    "X_train = sc.fit_transform(X_train)\n",
    "X_test = sc.transform(X_test)"
   ]
  },
  {
   "cell_type": "code",
   "execution_count": 38,
   "id": "6f6b2d47-58fc-462e-a208-6b04dd55d40b",
   "metadata": {},
   "outputs": [
    {
     "name": "stdout",
     "output_type": "stream",
     "text": [
      "[[-0.02646906  0.14049224]\n",
      " [-1.68948442 -1.14226299]\n",
      " [ 0.87703063  1.51487285]\n",
      " [ 0.69345101  0.23211761]\n",
      " [-2.05304406 -0.68413612]\n",
      " [ 0.32989137  1.51487285]\n",
      " [ 0.05992135  0.69024448]\n",
      " [ 1.01381544 -0.86738687]\n",
      " [ 0.19310656  1.60649822]\n",
      " [-0.3936283  -0.95901225]\n",
      " [-1.56709801  1.42324747]\n",
      " [-0.32883549  0.69024448]\n",
      " [ 0.81943702 -1.60038986]\n",
      " [ 0.49907259 -0.86738687]\n",
      " [ 1.34857827  0.87349523]\n",
      " [ 0.54226779 -1.14226299]\n",
      " [-0.23164628 -1.23388837]\n",
      " [ 0.99941704 -0.40926   ]\n",
      " [ 0.06712055 -0.31763463]\n",
      " [ 0.19670616 -0.50088538]\n",
      " [-1.67868562  1.05674598]\n",
      " [ 0.74024581 -1.05063762]\n",
      " [-2.06024326 -1.32551374]\n",
      " [-2.04584486  0.69024448]\n",
      " [-2.10703806 -0.68413612]\n",
      " [-0.35763229  0.14049224]\n",
      " [-1.71468162 -1.60038986]\n",
      " [ 0.21110456  1.60649822]\n",
      " [ 0.25070017 -1.23388837]\n",
      " [-2.17903007  0.9651206 ]\n",
      " [ 1.18659626  0.04886687]\n",
      " [ 0.6466562   0.87349523]\n",
      " [-2.30501608  1.3316221 ]\n",
      " [ 1.06780944 -1.32551374]\n",
      " [-0.58440712 -0.04275851]\n",
      " [ 0.05272215  0.14049224]\n",
      " [ 0.34788938 -0.50088538]\n",
      " [ 0.51707059 -1.41713912]\n",
      " [-2.00624925 -1.41713912]\n",
      " [ 0.89862823  1.3316221 ]\n",
      " [ 0.37668618  0.9651206 ]\n",
      " [ 0.09591735 -0.40926   ]\n",
      " [ 0.97062024  0.69024448]\n",
      " [-0.12005867 -1.41713912]\n",
      " [ 0.92742503  1.60649822]\n",
      " [ 1.29818387  1.42324747]\n",
      " [ 1.31618187 -1.60038986]\n",
      " [-1.04515596 -0.68413612]\n",
      " [ 0.621459   -0.86738687]\n",
      " [-1.21793678 -0.22600926]\n",
      " [ 0.79423982 -0.95901225]\n",
      " [ 1.22979146  0.78186986]\n",
      " [ 0.47027579  1.14837135]\n",
      " [-0.02286946 -1.05063762]\n",
      " [ 0.66825381  1.51487285]\n",
      " [-1.57069761  1.05674598]\n",
      " [ 0.71504861  1.23999673]\n",
      " [-0.01207066  0.69024448]\n",
      " [ 1.28378547  0.78186986]\n",
      " [ 0.11031575  1.05674598]\n",
      " [-0.48721791 -0.7757615 ]\n",
      " [-0.4008275   1.3316221 ]\n",
      " [ 0.34428977  0.32374299]\n",
      " [ 0.33349097  0.59861911]\n",
      " [-0.21004868  0.50699374]\n",
      " [ 1.00301664 -1.60038986]\n",
      " [ 0.6070606  -1.14226299]\n",
      " [ 0.98141904  0.50699374]\n",
      " [-1.23233518 -0.40926   ]\n",
      " [-0.03366826  0.78186986]\n",
      " [ 0.25789937 -0.22600926]\n",
      " [ 0.13911255  1.05674598]\n",
      " [-0.54481151 -0.86738687]\n",
      " [-0.01926986 -1.23388837]\n",
      " [-1.99905005  1.3316221 ]\n",
      " [-0.3792299  -0.13438388]\n",
      " [ 0.55306659  0.41536836]\n",
      " [-2.02784686 -0.68413612]\n",
      " [ 1.27298666  0.04886687]\n",
      " [ 1.35937707  1.60649822]\n",
      " [-0.23884548 -1.41713912]\n",
      " [ 0.53146899 -1.14226299]\n",
      " [-0.23524588  1.60649822]\n",
      " [-1.73987883 -0.86738687]\n",
      " [ 1.35217787 -0.04275851]\n",
      " [ 1.16859825  1.05674598]\n",
      " [ 1.03901264  1.3316221 ]\n",
      " [ 0.27949697 -0.13438388]\n",
      " [ 1.20459426 -1.60038986]\n",
      " [ 0.40908258  0.59861911]\n",
      " [-0.87597474 -0.95901225]\n",
      " [-0.75718793 -0.7757615 ]\n",
      " [ 0.54586739 -0.59251075]\n",
      " [ 0.6250586  -1.14226299]\n",
      " [ 0.11391535  0.23211761]\n",
      " [-0.4404231  -0.86738687]\n",
      " [-1.34392279  0.50699374]\n",
      " [ 0.75104461  0.14049224]\n",
      " [ 0.20030576  0.9651206 ]\n",
      " [-0.80398274  1.05674598]\n",
      " [-1.22513598  1.42324747]\n",
      " [ 0.90582743  1.3316221 ]\n",
      " [ 0.66105461  1.23999673]\n",
      " [-0.25684348 -1.32551374]\n",
      " [-1.39791679  1.14837135]\n",
      " [-0.11645907  0.32374299]\n",
      " [ 0.88063023  1.05674598]\n",
      " [-0.65639912  0.41536836]\n",
      " [ 0.09231775 -0.50088538]\n",
      " [ 0.5818634   0.04886687]\n",
      " [-1.65708802  0.14049224]\n",
      " [ 1.05701064 -1.23388837]\n",
      " [-0.35403269  0.41536836]\n",
      " [ 1.10020585 -1.32551374]\n",
      " [-1.4375124   1.42324747]\n",
      " [ 1.08940705  1.23999673]\n",
      " [ 0.41268218 -1.60038986]\n",
      " [-1.93425725  0.32374299]\n",
      " [ 1.27658627  0.23211761]\n",
      " [-2.13223527  1.51487285]\n",
      " [ 0.13191335  0.32374299]\n",
      " [ 0.31909257 -0.13438388]\n",
      " [ 0.44507858 -0.95901225]\n",
      " [ 0.41628178 -0.86738687]\n",
      " [-0.77518593 -0.95901225]\n",
      " [-1.78307403 -0.31763463]\n",
      " [ 1.33417987  0.69024448]\n",
      " [ 0.44867818 -1.32551374]\n",
      " [-0.17765228  0.23211761]\n",
      " [ 0.67905261 -1.32551374]\n",
      " [ 1.15779945 -1.05063762]\n",
      " [ 0.43787938  1.05674598]\n",
      " [ 0.76904262 -0.7757615 ]\n",
      " [ 0.76544302 -0.68413612]\n",
      " [ 1.35577747 -0.50088538]\n",
      " [ 0.603461    0.9651206 ]\n",
      " [-0.50881551  1.51487285]\n",
      " [-2.18982887 -1.05063762]\n",
      " [-0.07326387 -1.14226299]\n",
      " [ 0.13551295  1.14837135]\n",
      " [ 0.40548298  1.42324747]\n",
      " [ 0.07431975  0.41536836]\n",
      " [-0.4296243   0.50699374]\n",
      " [ 0.28309657 -1.50876449]\n",
      " [-0.56640911 -1.05063762]\n",
      " [ 0.46307659 -0.68413612]\n",
      " [ 1.16499865 -0.95901225]\n",
      " [-1.75067763 -0.95901225]\n",
      " [ 0.70065021  0.14049224]\n",
      " [ 0.85183342 -0.13438388]]\n"
     ]
    }
   ],
   "source": [
    "print(X_train)"
   ]
  },
  {
   "cell_type": "code",
   "execution_count": 39,
   "id": "00a5ad0d-6b38-4c81-9f8b-f4d265a32bfe",
   "metadata": {},
   "outputs": [
    {
     "name": "stdout",
     "output_type": "stream",
     "text": [
      "[1 0 1 1 0 1 1 1 1 1 0 1 1 1 1 1 1 1 1 1 0 1 0 0 0 1 0 1 1 0 1 1 0 1 0 1 1\n",
      " 1 0 1 1 1 1 1 1 1 1 0 1 0 1 1 1 1 1 0 1 1 1 1 1 1 1 1 1 1 1 1 0 1 1 1 0 1\n",
      " 0 1 1 0 1 1 1 1 1 0 1 1 1 1 1 1 0 0 1 1 1 1 0 1 1 0 0 1 1 1 0 1 1 0 1 1 0\n",
      " 1 1 1 0 1 1 0 1 0 1 1 1 1 0 0 1 1 1 1 1 1 1 1 1 1 1 0 1 1 1 1 1 1 0 1 1 0\n",
      " 1 1]\n"
     ]
    }
   ],
   "source": [
    "print(y_train)"
   ]
  },
  {
   "cell_type": "code",
   "execution_count": 40,
   "id": "74cd949d-4f46-4d52-97ea-bb94fe51fab9",
   "metadata": {},
   "outputs": [
    {
     "name": "stdout",
     "output_type": "stream",
     "text": [
      "[[-0.04086746 -0.40926   ]\n",
      " [ 0.82303662  1.51487285]\n",
      " [-1.68228522 -1.41713912]\n",
      " [-0.20284948 -0.86738687]\n",
      " [ 0.77264222 -0.68413612]\n",
      " [ 0.84103462  0.14049224]\n",
      " [-0.31083749 -0.40926   ]\n",
      " [-1.80467163  1.42324747]\n",
      " [-0.49441711  1.60649822]\n",
      " [ 1.21179346  0.78186986]\n",
      " [ 0.30469417  1.23999673]\n",
      " [-1.26473158 -0.22600926]\n",
      " [ 0.89502863  1.05674598]\n",
      " [ 0.83383542  1.14837135]\n",
      " [ 0.18950696 -0.22600926]\n",
      " [ 0.10311655  0.69024448]\n",
      " [ 0.5710646  -0.59251075]\n",
      " [-2.04944446  0.87349523]\n",
      " [ 0.15351096 -1.50876449]\n",
      " [-0.25324388  0.41536836]\n",
      " [ 0.85903262  1.14837135]\n",
      " [-1.57789681  0.87349523]\n",
      " [ 0.37308658 -0.04275851]\n",
      " [ 0.99221784 -1.60038986]\n",
      " [-0.4728195  -0.04275851]\n",
      " [-2.22582487 -0.40926   ]\n",
      " [ 1.05341104  0.04886687]\n",
      " [ 1.31258227 -0.59251075]\n",
      " [-1.87306404  1.14837135]\n",
      " [-0.3864291   1.51487285]\n",
      " [ 0.28669617 -1.50876449]\n",
      " [-0.04446706 -1.23388837]\n",
      " [ 0.77984142  0.50699374]\n",
      " [-1.73627923  0.14049224]\n",
      " [-0.03006866 -0.31763463]\n",
      " [ 0.98501864 -0.7757615 ]\n",
      " [-0.64200072  1.23999673]\n",
      " [ 0.16430976  0.04886687]\n",
      " [ 0.32269217 -1.05063762]\n",
      " [-0.95516595 -0.40926   ]\n",
      " [-1.81187083  1.42324747]\n",
      " [ 0.34069017 -1.23388837]\n",
      " [ 0.5890626   0.14049224]\n",
      " [-0.90117195 -0.04275851]\n",
      " [ 1.02821384 -0.86738687]\n",
      " [-0.05526586  1.23999673]\n",
      " [-0.00847106  1.60649822]\n",
      " [-0.07686347  0.41536836]\n",
      " [-0.75358833 -1.60038986]\n",
      " [-2.24382288  0.87349523]]\n"
     ]
    }
   ],
   "source": [
    "print(X_test)"
   ]
  },
  {
   "cell_type": "code",
   "execution_count": 41,
   "id": "3df7afe9-58ba-4541-a469-a58dfc3c1e56",
   "metadata": {},
   "outputs": [
    {
     "name": "stdout",
     "output_type": "stream",
     "text": [
      "[1 1 0 1 1 1 1 0 1 1 1 0 1 1 1 1 1 0 1 1 1 0 1 1 1 0 1 1 0 1 1 1 1 0 1 1 0\n",
      " 1 1 0 0 1 1 0 1 1 1 1 0 0]\n"
     ]
    }
   ],
   "source": [
    "print(y_test)"
   ]
  },
  {
   "cell_type": "markdown",
   "id": "7e901efd-cd23-45f9-84d4-8ce285e6510e",
   "metadata": {},
   "source": [
    "# Training the model"
   ]
  },
  {
   "cell_type": "code",
   "execution_count": 42,
   "id": "7be08c4d-75f7-40a2-9537-c5d807c01753",
   "metadata": {},
   "outputs": [
    {
     "data": {
      "text/plain": [
       "GaussianNB()"
      ]
     },
     "execution_count": 42,
     "metadata": {},
     "output_type": "execute_result"
    }
   ],
   "source": [
    "from sklearn.naive_bayes import GaussianNB\n",
    "classifier = GaussianNB()\n",
    "classifier.fit(X_train, y_train)"
   ]
  },
  {
   "cell_type": "markdown",
   "id": "c1412855-a9c2-425c-88d0-938ccd2ab765",
   "metadata": {},
   "source": [
    "## Predicting Future data"
   ]
  },
  {
   "cell_type": "code",
   "execution_count": 46,
   "id": "186b8b8a-1b54-4b10-9696-d008b4b90aba",
   "metadata": {},
   "outputs": [
    {
     "name": "stdout",
     "output_type": "stream",
     "text": [
      "[1]\n"
     ]
    }
   ],
   "source": [
    "print(classifier.predict(sc.transform([[500,32]])))"
   ]
  },
  {
   "cell_type": "markdown",
   "id": "d576c3af-d889-4197-bc31-bc2aff74e9f8",
   "metadata": {},
   "source": [
    "## Predicting Test Set Data"
   ]
  },
  {
   "cell_type": "code",
   "execution_count": 47,
   "id": "c3952ca5-8002-41d0-8131-0d595c531e6c",
   "metadata": {},
   "outputs": [
    {
     "name": "stdout",
     "output_type": "stream",
     "text": [
      "[[1 1]\n",
      " [1 1]\n",
      " [0 0]\n",
      " [1 1]\n",
      " [1 1]\n",
      " [1 1]\n",
      " [1 1]\n",
      " [0 0]\n",
      " [1 1]\n",
      " [1 1]\n",
      " [1 1]\n",
      " [0 0]\n",
      " [1 1]\n",
      " [1 1]\n",
      " [1 1]\n",
      " [1 1]\n",
      " [1 1]\n",
      " [0 0]\n",
      " [1 1]\n",
      " [1 1]\n",
      " [1 1]\n",
      " [0 0]\n",
      " [1 1]\n",
      " [1 1]\n",
      " [1 1]\n",
      " [0 0]\n",
      " [1 1]\n",
      " [1 1]\n",
      " [0 0]\n",
      " [1 1]\n",
      " [1 1]\n",
      " [1 1]\n",
      " [1 1]\n",
      " [0 0]\n",
      " [1 1]\n",
      " [1 1]\n",
      " [1 0]\n",
      " [1 1]\n",
      " [1 1]\n",
      " [0 0]\n",
      " [0 0]\n",
      " [1 1]\n",
      " [1 1]\n",
      " [0 0]\n",
      " [1 1]\n",
      " [1 1]\n",
      " [1 1]\n",
      " [1 1]\n",
      " [0 0]\n",
      " [0 0]]\n"
     ]
    }
   ],
   "source": [
    "y_pred = classifier.predict(X_test)\n",
    "print(np.concatenate((y_pred.reshape(len(y_pred),1), y_test.reshape(len(y_test),1)),1))"
   ]
  },
  {
   "cell_type": "markdown",
   "id": "98944d4d-8d2d-4afb-bb67-a5947114e83c",
   "metadata": {},
   "source": [
    "## Confussion Matrix"
   ]
  },
  {
   "cell_type": "code",
   "execution_count": 48,
   "id": "7debb1c8-89a3-408f-9535-37de6acc1539",
   "metadata": {},
   "outputs": [
    {
     "name": "stdout",
     "output_type": "stream",
     "text": [
      "[[13  1]\n",
      " [ 0 36]]\n"
     ]
    },
    {
     "data": {
      "text/plain": [
       "0.98"
      ]
     },
     "execution_count": 48,
     "metadata": {},
     "output_type": "execute_result"
    }
   ],
   "source": [
    "from sklearn.metrics import confusion_matrix, accuracy_score\n",
    "cm = confusion_matrix(y_test, y_pred)\n",
    "print(cm)\n",
    "accuracy_score(y_test, y_pred)"
   ]
  },
  {
   "cell_type": "markdown",
   "id": "181f5ff9-89d2-4c8f-b720-5491eaae3275",
   "metadata": {},
   "source": [
    "## Visualisation of train set"
   ]
  },
  {
   "cell_type": "code",
   "execution_count": 49,
   "id": "e9a27906-cbd5-424b-af02-48e948362319",
   "metadata": {},
   "outputs": [
    {
     "name": "stderr",
     "output_type": "stream",
     "text": [
      "*c* argument looks like a single numeric RGB or RGBA sequence, which should be avoided as value-mapping will have precedence in case its length matches with *x* & *y*.  Please use the *color* keyword-argument or provide a 2D array with a single row if you intend to specify the same RGB or RGBA value for all points.\n",
      "*c* argument looks like a single numeric RGB or RGBA sequence, which should be avoided as value-mapping will have precedence in case its length matches with *x* & *y*.  Please use the *color* keyword-argument or provide a 2D array with a single row if you intend to specify the same RGB or RGBA value for all points.\n"
     ]
    },
    {
     "data": {
      "image/png": "[encoded data removed]",
      "text/plain": [
       "<Figure size 432x288 with 1 Axes>"
      ]
     },
     "metadata": {
      "needs_background": "light"
     },
     "output_type": "display_data"
    }
   ],
   "source": [
    "from matplotlib.colors import ListedColormap\n",
    "X_set, y_set = sc.inverse_transform(X_train), y_train\n",
    "X1, X2 = np.meshgrid(np.arange(start = X_set[:, 0].min() - 10, stop = X_set[:, 0].max() + 10, step = 0.25),\n",
    "                     np.arange(start = X_set[:, 1].min() - 1000, stop = X_set[:, 1].max() + 1000, step = 0.25))\n",
    "plt.contourf(X1, X2, classifier.predict(sc.transform(np.array([X1.ravel(), X2.ravel()]).T)).reshape(X1.shape),\n",
    "             alpha = 0.75, cmap = ListedColormap(('red', 'green')))\n",
    "plt.xlim(X1.min(), X1.max())\n",
    "plt.ylim(X2.min(), X2.max())\n",
    "for i, j in enumerate(np.unique(y_set)):\n",
    "    plt.scatter(X_set[y_set == j, 0], X_set[y_set == j, 1], c = ListedColormap(('red', 'green'))(i), label = j)\n",
    "plt.title('Naive Bayes (Training set)')\n",
    "plt.xlabel('Moisture')\n",
    "plt.ylabel('Temperature ')\n",
    "plt.legend()\n",
    "plt.show()"
   ]
  },
  {
   "cell_type": "markdown",
   "id": "6190af49-3283-4f27-83c6-1896c8d668c7",
   "metadata": {},
   "source": [
    "## Visualisation of test set"
   ]
  },
  {
   "cell_type": "code",
   "execution_count": 50,
   "id": "a6ae042b-2a7b-4c94-bcca-75fb4aacde80",
   "metadata": {},
   "outputs": [
    {
     "name": "stderr",
     "output_type": "stream",
     "text": [
      "*c* argument looks like a single numeric RGB or RGBA sequence, which should be avoided as value-mapping will have precedence in case its length matches with *x* & *y*.  Please use the *color* keyword-argument or provide a 2D array with a single row if you intend to specify the same RGB or RGBA value for all points.\n",
      "*c* argument looks like a single numeric RGB or RGBA sequence, which should be avoided as value-mapping will have precedence in case its length matches with *x* & *y*.  Please use the *color* keyword-argument or provide a 2D array with a single row if you intend to specify the same RGB or RGBA value for all points.\n"
     ]
    },
    {
     "data": {
      "image/png": "[encoded data removed]",
      "text/plain": [
       "<Figure size 432x288 with 1 Axes>"
      ]
     },
     "metadata": {
      "needs_background": "light"
     },
     "output_type": "display_data"
    }
   ],
   "source": [
    "from matplotlib.colors import ListedColormap\n",
    "X_set, y_set = sc.inverse_transform(X_test), y_test\n",
    "X1, X2 = np.meshgrid(np.arange(start = X_set[:, 0].min() - 10, stop = X_set[:, 0].max() + 10, step = 0.25),\n",
    "                     np.arange(start = X_set[:, 1].min() - 1000, stop = X_set[:, 1].max() + 1000, step = 0.25))\n",
    "plt.contourf(X1, X2, classifier.predict(sc.transform(np.array([X1.ravel(), X2.ravel()]).T)).reshape(X1.shape),\n",
    "             alpha = 0.75, cmap = ListedColormap(('red', 'green')))\n",
    "plt.xlim(X1.min(), X1.max())\n",
    "plt.ylim(X2.min(), X2.max())\n",
    "for i, j in enumerate(np.unique(y_set)):\n",
    "    plt.scatter(X_set[y_set == j, 0], X_set[y_set == j, 1], c = ListedColormap(('red', 'green'))(i), label = j)\n",
    "plt.title('Naive Bayes (Test set)')\n",
    "plt.xlabel('Moisture')\n",
    "plt.ylabel('Temperature')\n",
    "plt.legend()\n",
    "plt.show()"
   ]
  },
  {
   "cell_type": "code",
   "execution_count": null,
   "id": "4a340c9c-8ae3-47f5-8863-8b671427852b",
   "metadata": {},
   "outputs": [],
   "source": []
  }
 ],
 "metadata": {
  "kernelspec": {
   "display_name": "Python 3 (ipykernel)",
   "language": "python",
   "name": "python3"
  },
  "language_info": {
   "codemirror_mode": {
    "name": "ipython",
    "version": 3
   },
   "file_extension": ".py",
   "mimetype": "text/x-python",
   "name": "python",
   "nbconvert_exporter": "python",
   "pygments_lexer": "ipython3",
   "version": "3.9.12"
  }
 },
 "nbformat": 4,
 "nbformat_minor": 5
}
